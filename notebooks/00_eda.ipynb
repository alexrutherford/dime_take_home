{
 "cells": [
  {
   "cell_type": "code",
   "execution_count": 13,
   "id": "250c3ce9",
   "metadata": {},
   "outputs": [
    {
     "name": "stdout",
     "output_type": "stream",
     "text": [
      "The autoreload extension is already loaded. To reload it, use:\n",
      "  %reload_ext autoreload\n"
     ]
    }
   ],
   "source": [
    "%load_ext autoreload\n",
    "%autoreload 2"
   ]
  },
  {
   "cell_type": "code",
   "execution_count": 14,
   "id": "cb03f3c7",
   "metadata": {},
   "outputs": [
    {
     "data": {
      "text/plain": [
       "True"
      ]
     },
     "execution_count": 14,
     "metadata": {},
     "output_type": "execute_result"
    }
   ],
   "source": [
    "import pandas as pd\n",
    "import pickle\n",
    "import random\n",
    "import collections\n",
    "import seaborn as sns\n",
    "from dotenv import load_dotenv\n",
    "\n",
    "load_dotenv()"
   ]
  },
  {
   "cell_type": "code",
   "execution_count": 15,
   "id": "7b24abcf",
   "metadata": {},
   "outputs": [
    {
     "ename": "ModuleNotFoundError",
     "evalue": "No module named 'openai'",
     "output_type": "error",
     "traceback": [
      "\u001b[31m---------------------------------------------------------------------------\u001b[39m",
      "\u001b[31mModuleNotFoundError\u001b[39m                       Traceback (most recent call last)",
      "\u001b[36mCell\u001b[39m\u001b[36m \u001b[39m\u001b[32mIn[15]\u001b[39m\u001b[32m, line 1\u001b[39m\n\u001b[32m----> \u001b[39m\u001b[32m1\u001b[39m \u001b[38;5;28;01mfrom\u001b[39;00m\u001b[38;5;250m \u001b[39m\u001b[34;01mopenai\u001b[39;00m\u001b[38;5;250m \u001b[39m\u001b[38;5;28;01mimport\u001b[39;00m OpenAI\n\u001b[32m      3\u001b[39m client = OpenAI(\n\u001b[32m      4\u001b[39m     api_key=os.getenv(\u001b[33m\"\u001b[39m\u001b[33mOPENAI_API_KEY\u001b[39m\u001b[33m\"\u001b[39m)\n\u001b[32m      5\u001b[39m )\n",
      "\u001b[31mModuleNotFoundError\u001b[39m: No module named 'openai'"
     ]
    }
   ],
   "source": [
    "from openai import OpenAI\n",
    "\n",
    "client = OpenAI(\n",
    "    api_key=os.getenv(\"OPENAI_API_KEY\")\n",
    ")"
   ]
  },
  {
   "cell_type": "markdown",
   "id": "d9581a55",
   "metadata": {},
   "source": [
    "# Look at data files"
   ]
  },
  {
   "cell_type": "markdown",
   "id": "90c29d68",
   "metadata": {},
   "source": [
    "## Risk Factors "
   ]
  },
  {
   "cell_type": "code",
   "execution_count": 2,
   "id": "949bc5b1",
   "metadata": {},
   "outputs": [
    {
     "name": "stdout",
     "output_type": "stream",
     "text": [
      "id_arabic_location_name.pkl  news-articles-eng.csv\n",
      "id_english_location_name.pkl risk-factors-categories.xlsx\n",
      "news-articles-ara.csv        risk-factors.xlsx\n"
     ]
    }
   ],
   "source": [
    "!ls ../data/raw"
   ]
  },
  {
   "cell_type": "code",
   "execution_count": 6,
   "id": "3420f896",
   "metadata": {},
   "outputs": [],
   "source": [
    "df_risk_factors = pd.read_excel(\"../data/raw/risk-factors.xlsx\")"
   ]
  },
  {
   "cell_type": "code",
   "execution_count": 8,
   "id": "56af6cd3",
   "metadata": {},
   "outputs": [
    {
     "name": "stdout",
     "output_type": "stream",
     "text": [
      "(167, 2)\n"
     ]
    },
    {
     "data": {
      "text/html": [
       "<div>\n",
       "<style scoped>\n",
       "    .dataframe tbody tr th:only-of-type {\n",
       "        vertical-align: middle;\n",
       "    }\n",
       "\n",
       "    .dataframe tbody tr th {\n",
       "        vertical-align: top;\n",
       "    }\n",
       "\n",
       "    .dataframe thead th {\n",
       "        text-align: right;\n",
       "    }\n",
       "</style>\n",
       "<table border=\"1\" class=\"dataframe\">\n",
       "  <thead>\n",
       "    <tr style=\"text-align: right;\">\n",
       "      <th></th>\n",
       "      <th>risk_factor_english</th>\n",
       "      <th>risk_factor_arabic</th>\n",
       "    </tr>\n",
       "  </thead>\n",
       "  <tbody>\n",
       "    <tr>\n",
       "      <th>0</th>\n",
       "      <td>massive starvation</td>\n",
       "      <td>NaN</td>\n",
       "    </tr>\n",
       "    <tr>\n",
       "      <th>1</th>\n",
       "      <td>rinderpest</td>\n",
       "      <td>NaN</td>\n",
       "    </tr>\n",
       "    <tr>\n",
       "      <th>2</th>\n",
       "      <td>scanty rainfall</td>\n",
       "      <td>NaN</td>\n",
       "    </tr>\n",
       "    <tr>\n",
       "      <th>3</th>\n",
       "      <td>dysfunction</td>\n",
       "      <td>NaN</td>\n",
       "    </tr>\n",
       "    <tr>\n",
       "      <th>4</th>\n",
       "      <td>rise</td>\n",
       "      <td>NaN</td>\n",
       "    </tr>\n",
       "  </tbody>\n",
       "</table>\n",
       "</div>"
      ],
      "text/plain": [
       "  risk_factor_english  risk_factor_arabic\n",
       "0  massive starvation                 NaN\n",
       "1          rinderpest                 NaN\n",
       "2     scanty rainfall                 NaN\n",
       "3         dysfunction                 NaN\n",
       "4                rise                 NaN"
      ]
     },
     "execution_count": 8,
     "metadata": {},
     "output_type": "execute_result"
    }
   ],
   "source": [
    "print(df_risk_factors.shape)\n",
    "df_risk_factors.head()"
   ]
  },
  {
   "cell_type": "code",
   "execution_count": null,
   "id": "58551a68",
   "metadata": {},
   "outputs": [],
   "source": []
  },
  {
   "cell_type": "code",
   "execution_count": 21,
   "id": "01aa40ae",
   "metadata": {},
   "outputs": [
    {
     "data": {
      "text/html": [
       "<div>\n",
       "<style scoped>\n",
       "    .dataframe tbody tr th:only-of-type {\n",
       "        vertical-align: middle;\n",
       "    }\n",
       "\n",
       "    .dataframe tbody tr th {\n",
       "        vertical-align: top;\n",
       "    }\n",
       "\n",
       "    .dataframe thead th {\n",
       "        text-align: right;\n",
       "    }\n",
       "</style>\n",
       "<table border=\"1\" class=\"dataframe\">\n",
       "  <thead>\n",
       "    <tr style=\"text-align: right;\">\n",
       "      <th></th>\n",
       "      <th>risk_factor</th>\n",
       "      <th>cluster</th>\n",
       "    </tr>\n",
       "  </thead>\n",
       "  <tbody>\n",
       "    <tr>\n",
       "      <th>0</th>\n",
       "      <td>land seizures</td>\n",
       "      <td>land-related issues</td>\n",
       "    </tr>\n",
       "    <tr>\n",
       "      <th>1</th>\n",
       "      <td>slashed export</td>\n",
       "      <td>economic issues</td>\n",
       "    </tr>\n",
       "  </tbody>\n",
       "</table>\n",
       "</div>"
      ],
      "text/plain": [
       "      risk_factor              cluster\n",
       "0   land seizures  land-related issues\n",
       "1  slashed export      economic issues"
      ]
     },
     "execution_count": 21,
     "metadata": {},
     "output_type": "execute_result"
    }
   ],
   "source": [
    "df_risk_factors_categories = pd.read_excel(\"../data/raw/risk-factors-categories.xlsx\")\n",
    "df_risk_factors_categories.head(2)"
   ]
  },
  {
   "cell_type": "code",
   "execution_count": 24,
   "id": "dfe2fad9",
   "metadata": {},
   "outputs": [
    {
     "data": {
      "text/plain": [
       "array(['land-related issues', 'economic issues', 'food crisis',\n",
       "       'weather shocks', 'agricultural production issues',\n",
       "       'humanitarian aid', 'political instability', 'pests and diseases',\n",
       "       'other', 'conflicts and violence', 'forced displacement',\n",
       "       'environmental issues'], dtype=object)"
      ]
     },
     "execution_count": 24,
     "metadata": {},
     "output_type": "execute_result"
    }
   ],
   "source": [
    "pd.unique(df_risk_factors_categories['cluster'])"
   ]
  },
  {
   "cell_type": "code",
   "execution_count": 25,
   "id": "74eb7f91",
   "metadata": {},
   "outputs": [
    {
     "data": {
      "text/plain": [
       "risk_factor\n",
       "land seizures     1\n",
       "slashed export    1\n",
       "price rise        1\n",
       "mass hunger       1\n",
       "cyclone           1\n",
       "                 ..\n",
       "convoys           1\n",
       "carbon            1\n",
       "mayhem            1\n",
       "dehydrated        1\n",
       "mismanagement     1\n",
       "Name: count, Length: 167, dtype: int64"
      ]
     },
     "execution_count": 25,
     "metadata": {},
     "output_type": "execute_result"
    }
   ],
   "source": [
    "df_risk_factors_categories['risk_factor'].value_counts()"
   ]
  },
  {
   "cell_type": "markdown",
   "id": "32458f32",
   "metadata": {},
   "source": [
    "## News Articles"
   ]
  },
  {
   "cell_type": "code",
   "execution_count": 12,
   "id": "8f9465d5",
   "metadata": {},
   "outputs": [],
   "source": [
    "df_news_en = pd.read_csv(\"../data/raw/news-articles-eng.csv\")"
   ]
  },
  {
   "cell_type": "code",
   "execution_count": 27,
   "id": "ba435fde",
   "metadata": {},
   "outputs": [
    {
     "name": "stdout",
     "output_type": "stream",
     "text": [
      "(86660, 20)\n"
     ]
    },
    {
     "data": {
      "text/html": [
       "<div>\n",
       "<style scoped>\n",
       "    .dataframe tbody tr th:only-of-type {\n",
       "        vertical-align: middle;\n",
       "    }\n",
       "\n",
       "    .dataframe tbody tr th {\n",
       "        vertical-align: top;\n",
       "    }\n",
       "\n",
       "    .dataframe thead th {\n",
       "        text-align: right;\n",
       "    }\n",
       "</style>\n",
       "<table border=\"1\" class=\"dataframe\">\n",
       "  <thead>\n",
       "    <tr style=\"text-align: right;\">\n",
       "      <th></th>\n",
       "      <th>uri</th>\n",
       "      <th>lang</th>\n",
       "      <th>isDuplicate</th>\n",
       "      <th>date</th>\n",
       "      <th>time</th>\n",
       "      <th>dateTime</th>\n",
       "      <th>dateTimePub</th>\n",
       "      <th>dataType</th>\n",
       "      <th>sim</th>\n",
       "      <th>url</th>\n",
       "      <th>title</th>\n",
       "      <th>body</th>\n",
       "      <th>source</th>\n",
       "      <th>authors</th>\n",
       "      <th>image</th>\n",
       "      <th>eventUri</th>\n",
       "      <th>sentiment</th>\n",
       "      <th>wgt</th>\n",
       "      <th>relevance</th>\n",
       "      <th>userHasPermissions</th>\n",
       "    </tr>\n",
       "  </thead>\n",
       "  <tbody>\n",
       "    <tr>\n",
       "      <th>0</th>\n",
       "      <td>8216521939</td>\n",
       "      <td>eng</td>\n",
       "      <td>False</td>\n",
       "      <td>2024-07-09</td>\n",
       "      <td>08:15:07</td>\n",
       "      <td>2024-07-09T08:15:07Z</td>\n",
       "      <td>2024-07-09T08:14:39Z</td>\n",
       "      <td>news</td>\n",
       "      <td>0.631373</td>\n",
       "      <td>https://english.enabbaladi.net/archives/2024/0...</td>\n",
       "      <td>Israeli escalation on southern Lebanon : Al-As...</td>\n",
       "      <td>Hussam al-Mahmoud | Yamen Moghrabi | Hassan Ib...</td>\n",
       "      <td>{'uri': 'english.enabbaladi.net', 'dataType': ...</td>\n",
       "      <td>[{'uri': 'enab10_ula@english.enabbaladi.net', ...</td>\n",
       "      <td>https://cdn.enabbaladi.net/english/wp-content/...</td>\n",
       "      <td>eng-9713305</td>\n",
       "      <td>-0.505882</td>\n",
       "      <td>503</td>\n",
       "      <td>503</td>\n",
       "      <td>NaN</td>\n",
       "    </tr>\n",
       "    <tr>\n",
       "      <th>1</th>\n",
       "      <td>8235923227</td>\n",
       "      <td>eng</td>\n",
       "      <td>False</td>\n",
       "      <td>2024-07-21</td>\n",
       "      <td>08:16:52</td>\n",
       "      <td>2024-07-21T08:16:52Z</td>\n",
       "      <td>2024-07-21T08:16:12Z</td>\n",
       "      <td>news</td>\n",
       "      <td>0.000000</td>\n",
       "      <td>https://www.jewishpress.com/indepth/analysis/j...</td>\n",
       "      <td>Israel Should NOT be Stuck with a \"Fair Fight\"...</td>\n",
       "      <td>t's an excellent axiom to never put your citiz...</td>\n",
       "      <td>{'uri': 'jewishpress.com', 'dataType': 'news',...</td>\n",
       "      <td>[{'uri': 'j_e_dyer@jewishpress.com', 'name': '...</td>\n",
       "      <td>https://www.jewishpress.com/wp-content/uploads...</td>\n",
       "      <td>NaN</td>\n",
       "      <td>0.003922</td>\n",
       "      <td>477</td>\n",
       "      <td>477</td>\n",
       "      <td>NaN</td>\n",
       "    </tr>\n",
       "  </tbody>\n",
       "</table>\n",
       "</div>"
      ],
      "text/plain": [
       "          uri lang  isDuplicate        date      time              dateTime  \\\n",
       "0  8216521939  eng        False  2024-07-09  08:15:07  2024-07-09T08:15:07Z   \n",
       "1  8235923227  eng        False  2024-07-21  08:16:52  2024-07-21T08:16:52Z   \n",
       "\n",
       "            dateTimePub dataType       sim  \\\n",
       "0  2024-07-09T08:14:39Z     news  0.631373   \n",
       "1  2024-07-21T08:16:12Z     news  0.000000   \n",
       "\n",
       "                                                 url  \\\n",
       "0  https://english.enabbaladi.net/archives/2024/0...   \n",
       "1  https://www.jewishpress.com/indepth/analysis/j...   \n",
       "\n",
       "                                               title  \\\n",
       "0  Israeli escalation on southern Lebanon : Al-As...   \n",
       "1  Israel Should NOT be Stuck with a \"Fair Fight\"...   \n",
       "\n",
       "                                                body  \\\n",
       "0  Hussam al-Mahmoud | Yamen Moghrabi | Hassan Ib...   \n",
       "1  t's an excellent axiom to never put your citiz...   \n",
       "\n",
       "                                              source  \\\n",
       "0  {'uri': 'english.enabbaladi.net', 'dataType': ...   \n",
       "1  {'uri': 'jewishpress.com', 'dataType': 'news',...   \n",
       "\n",
       "                                             authors  \\\n",
       "0  [{'uri': 'enab10_ula@english.enabbaladi.net', ...   \n",
       "1  [{'uri': 'j_e_dyer@jewishpress.com', 'name': '...   \n",
       "\n",
       "                                               image     eventUri  sentiment  \\\n",
       "0  https://cdn.enabbaladi.net/english/wp-content/...  eng-9713305  -0.505882   \n",
       "1  https://www.jewishpress.com/wp-content/uploads...          NaN   0.003922   \n",
       "\n",
       "   wgt  relevance userHasPermissions  \n",
       "0  503        503                NaN  \n",
       "1  477        477                NaN  "
      ]
     },
     "execution_count": 27,
     "metadata": {},
     "output_type": "execute_result"
    }
   ],
   "source": [
    "print(df_news_en.shape)\n",
    "df_news_en.head(2)"
   ]
  },
  {
   "cell_type": "code",
   "execution_count": 15,
   "id": "7d172086",
   "metadata": {},
   "outputs": [],
   "source": [
    "df_news_ar = pd.read_csv(\"../data/raw/news-articles-ara.csv\")"
   ]
  },
  {
   "cell_type": "code",
   "execution_count": 28,
   "id": "5ade9410",
   "metadata": {},
   "outputs": [
    {
     "name": "stdout",
     "output_type": "stream",
     "text": [
      "(85511, 19)\n"
     ]
    },
    {
     "data": {
      "text/html": [
       "<div>\n",
       "<style scoped>\n",
       "    .dataframe tbody tr th:only-of-type {\n",
       "        vertical-align: middle;\n",
       "    }\n",
       "\n",
       "    .dataframe tbody tr th {\n",
       "        vertical-align: top;\n",
       "    }\n",
       "\n",
       "    .dataframe thead th {\n",
       "        text-align: right;\n",
       "    }\n",
       "</style>\n",
       "<table border=\"1\" class=\"dataframe\">\n",
       "  <thead>\n",
       "    <tr style=\"text-align: right;\">\n",
       "      <th></th>\n",
       "      <th>uri</th>\n",
       "      <th>lang</th>\n",
       "      <th>isDuplicate</th>\n",
       "      <th>date</th>\n",
       "      <th>time</th>\n",
       "      <th>dateTime</th>\n",
       "      <th>dateTimePub</th>\n",
       "      <th>dataType</th>\n",
       "      <th>sim</th>\n",
       "      <th>url</th>\n",
       "      <th>title</th>\n",
       "      <th>body</th>\n",
       "      <th>source</th>\n",
       "      <th>authors</th>\n",
       "      <th>image</th>\n",
       "      <th>eventUri</th>\n",
       "      <th>sentiment</th>\n",
       "      <th>wgt</th>\n",
       "      <th>relevance</th>\n",
       "    </tr>\n",
       "  </thead>\n",
       "  <tbody>\n",
       "    <tr>\n",
       "      <th>0</th>\n",
       "      <td>8221345226</td>\n",
       "      <td>ara</td>\n",
       "      <td>False</td>\n",
       "      <td>2024-07-12</td>\n",
       "      <td>00:55:33</td>\n",
       "      <td>2024-07-12T00:55:33Z</td>\n",
       "      <td>2024-07-12T00:55:00Z</td>\n",
       "      <td>news</td>\n",
       "      <td>0.615686</td>\n",
       "      <td>https://www.almanar.com.lb/12211949</td>\n",
       "      <td>الصحافة اليوم: 12-7-2024</td>\n",
       "      <td>‫‫ محمد الهندي: من يرى فيديوهات المقاومين يجب ...</td>\n",
       "      <td>{'uri': 'almanar.com.lb', 'dataType': 'news', ...</td>\n",
       "      <td>[]</td>\n",
       "      <td>https://www.almanar.com.lb/framework/includes/...</td>\n",
       "      <td>ara-1673095</td>\n",
       "      <td>NaN</td>\n",
       "      <td>533</td>\n",
       "      <td>533</td>\n",
       "    </tr>\n",
       "    <tr>\n",
       "      <th>1</th>\n",
       "      <td>8202585568</td>\n",
       "      <td>ara</td>\n",
       "      <td>False</td>\n",
       "      <td>2024-06-30</td>\n",
       "      <td>10:00:50</td>\n",
       "      <td>2024-06-30T10:00:50Z</td>\n",
       "      <td>2024-06-30T10:00:18Z</td>\n",
       "      <td>news</td>\n",
       "      <td>0.000000</td>\n",
       "      <td>https://www.enabbaladi.net/706124/انفجار-جنوبي...</td>\n",
       "      <td>انفجار جنوبي لبنان.. الأسد حاضر دون أدوات</td>\n",
       "      <td>حسام المحمود | يامن المغربي | حسن إبراهيم\\n\\nأ...</td>\n",
       "      <td>{'uri': 'enabbaladi.net', 'dataType': 'news', ...</td>\n",
       "      <td>[]</td>\n",
       "      <td>https://cdn.enabbaladi.net/arabic/wp-content/u...</td>\n",
       "      <td>NaN</td>\n",
       "      <td>NaN</td>\n",
       "      <td>516</td>\n",
       "      <td>516</td>\n",
       "    </tr>\n",
       "  </tbody>\n",
       "</table>\n",
       "</div>"
      ],
      "text/plain": [
       "          uri lang  isDuplicate        date      time              dateTime  \\\n",
       "0  8221345226  ara        False  2024-07-12  00:55:33  2024-07-12T00:55:33Z   \n",
       "1  8202585568  ara        False  2024-06-30  10:00:50  2024-06-30T10:00:50Z   \n",
       "\n",
       "            dateTimePub dataType       sim  \\\n",
       "0  2024-07-12T00:55:00Z     news  0.615686   \n",
       "1  2024-06-30T10:00:18Z     news  0.000000   \n",
       "\n",
       "                                                 url  \\\n",
       "0                https://www.almanar.com.lb/12211949   \n",
       "1  https://www.enabbaladi.net/706124/انفجار-جنوبي...   \n",
       "\n",
       "                                       title  \\\n",
       "0                   الصحافة اليوم: 12-7-2024   \n",
       "1  انفجار جنوبي لبنان.. الأسد حاضر دون أدوات   \n",
       "\n",
       "                                                body  \\\n",
       "0  ‫‫ محمد الهندي: من يرى فيديوهات المقاومين يجب ...   \n",
       "1  حسام المحمود | يامن المغربي | حسن إبراهيم\\n\\nأ...   \n",
       "\n",
       "                                              source authors  \\\n",
       "0  {'uri': 'almanar.com.lb', 'dataType': 'news', ...      []   \n",
       "1  {'uri': 'enabbaladi.net', 'dataType': 'news', ...      []   \n",
       "\n",
       "                                               image     eventUri  sentiment  \\\n",
       "0  https://www.almanar.com.lb/framework/includes/...  ara-1673095        NaN   \n",
       "1  https://cdn.enabbaladi.net/arabic/wp-content/u...          NaN        NaN   \n",
       "\n",
       "   wgt  relevance  \n",
       "0  533        533  \n",
       "1  516        516  "
      ]
     },
     "execution_count": 28,
     "metadata": {},
     "output_type": "execute_result"
    }
   ],
   "source": [
    "print(df_news_ar.shape)\n",
    "df_news_ar.head(2)"
   ]
  },
  {
   "cell_type": "code",
   "execution_count": null,
   "id": "b2a6c989",
   "metadata": {},
   "outputs": [],
   "source": [
    "assert df_news_en['lang'].unique()[0] == 'eng'\n",
    "assert df_news_ar['lang'].unique()[0] == 'ara'\n",
    "# Check all languages are as expected"
   ]
  },
  {
   "cell_type": "code",
   "execution_count": null,
   "id": "227f145c",
   "metadata": {},
   "outputs": [
    {
     "name": "stdout",
     "output_type": "stream",
     "text": [
      "uri uri\n",
      "lang lang\n",
      "isDuplicate isDuplicate\n",
      "date date\n",
      "time time\n",
      "dateTime dateTime\n",
      "dateTimePub dateTimePub\n",
      "dataType dataType\n",
      "sim sim\n",
      "url url\n",
      "title title\n",
      "body body\n",
      "source source\n",
      "authors authors\n",
      "image image\n",
      "eventUri eventUri\n",
      "sentiment sentiment\n",
      "wgt wgt\n",
      "relevance relevance\n"
     ]
    }
   ],
   "source": [
    "for en,ar in zip(df_news_en.columns, df_news_ar.columns):\n",
    "    print(en, ar)\n",
    "# En and Ar news have mostly same schema (en has permissions column not in ar)\n",
    "# Useful columns likely to be: dateTimePub, body\n",
    "# Not clear where relevance and other columns come from"
   ]
  },
  {
   "cell_type": "code",
   "execution_count": null,
   "id": "f652fbb1",
   "metadata": {},
   "outputs": [
    {
     "data": {
      "image/png": "[encoded data removed]",
      "text/plain": [
       "<Figure size 640x480 with 1 Axes>"
      ]
     },
     "metadata": {},
     "output_type": "display_data"
    }
   ],
   "source": [
    "df_box = pd.DataFrame({\n",
    "    'body_length': pd.concat([\n",
    "        df_news_ar['body'].str.len().rename('ar'),\n",
    "        df_news_en['body'].str.len().rename('en')\n",
    "    ]),\n",
    "    'language': ['ar'] * len(df_news_ar) + ['en'] * len(df_news_en)\n",
    "})\n",
    "\n",
    "_ = sns.boxplot(x='language', y='body_length', data=df_box, log_scale=True)\n",
    "\n",
    "# Articles are of comparable length, Arabic slightly longer\n"
   ]
  },
  {
   "cell_type": "code",
   "execution_count": 76,
   "id": "c9ece901",
   "metadata": {},
   "outputs": [],
   "source": [
    "df_news_en['dateTime'] = pd.to_datetime(df_news_en['dateTime'])\n",
    "df_news_ar['dateTime'] = pd.to_datetime(df_news_ar['dateTime'])\n",
    "# Convert to datetime"
   ]
  },
  {
   "cell_type": "code",
   "execution_count": null,
   "id": "078f2473",
   "metadata": {},
   "outputs": [
    {
     "data": {
      "text/plain": [
       "<matplotlib.legend.Legend at 0x1236bf3b0>"
      ]
     },
     "execution_count": 80,
     "metadata": {},
     "output_type": "execute_result"
    },
    {
     "data": {
      "image/png": "[encoded data removed]",
      "text/plain": [
       "<Figure size 640x480 with 1 Axes>"
      ]
     },
     "metadata": {},
     "output_type": "display_data"
    }
   ],
   "source": [
    "ax = df_news_en.groupby(df_news_en['dateTime'].dt.date).size().plot()\n",
    "ax = df_news_ar.groupby(df_news_ar['dateTime'].dt.date).size().plot(ax=ax)\n",
    "ax.legend(['en', 'ar'])\n",
    "\n",
    "# Daily volumes are comparable with weekly dynamics"
   ]
  },
  {
   "cell_type": "markdown",
   "id": "b858e375",
   "metadata": {},
   "source": [
    "## Location files"
   ]
  },
  {
   "cell_type": "code",
   "execution_count": 4,
   "id": "271a6a0a",
   "metadata": {},
   "outputs": [],
   "source": [
    "with open(\"../data/raw/id_english_location_name.pkl\", \"rb\") as f:\n",
    "    locations_dict_en = pickle.load(f)"
   ]
  },
  {
   "cell_type": "code",
   "execution_count": 5,
   "id": "7aa7fdff",
   "metadata": {},
   "outputs": [
    {
     "data": {
      "text/plain": [
       "[('iq', ['iraq']),\n",
       " ('jo', ['jordan']),\n",
       " ('lb', ['lebanon']),\n",
       " ('ps',\n",
       "  ['occupied palestinian territory',\n",
       "   'palestine',\n",
       "   'palestinian authority',\n",
       "   'palestinian territories']),\n",
       " ('sy', ['syria', 'syrian arab republic']),\n",
       " ('iq_an', ['anbar']),\n",
       " ('iq_ar', ['arbil', 'erbil']),\n",
       " ('iq_bb', ['babil', 'babylon']),\n",
       " ('iq_bg', ['baghdad']),\n",
       " ('iq_ba', ['basra', 'basrah'])]"
      ]
     },
     "execution_count": 5,
     "metadata": {},
     "output_type": "execute_result"
    }
   ],
   "source": [
    "list(locations_dict_en.items())[:10]  # Show first 5 items"
   ]
  },
  {
   "cell_type": "code",
   "execution_count": 6,
   "id": "48759c95",
   "metadata": {},
   "outputs": [
    {
     "data": {
      "text/plain": [
       "[('iq_00_11', ['saidsadiq']),\n",
       " ('lb_na_3', ['marjaayoun', 'marjeyoun']),\n",
       " ('iq_ma_2', ['maimouna']),\n",
       " ('iq_sd_7', ['samarra']),\n",
       " ('iq_da', ['dahuk', 'duhok']),\n",
       " ('sy_hm', ['hama']),\n",
       " ('iq_bg_6', [\"mada'in\"]),\n",
       " ('lb_jl', ['mount lebanon']),\n",
       " ('iq_sl_1', ['chamchamal']),\n",
       " ('iq_mu', ['muthanna'])]"
      ]
     },
     "execution_count": 6,
     "metadata": {},
     "output_type": "execute_result"
    }
   ],
   "source": [
    "random.sample(list(locations_dict_en.items()), 10)  # Show 10 random items"
   ]
  },
  {
   "cell_type": "code",
   "execution_count": 7,
   "id": "dc7dd9f7",
   "metadata": {},
   "outputs": [],
   "source": [
    "with open(\"../data/raw/id_arabic_location_name.pkl\", \"rb\") as f:\n",
    "    locations_dict_ar = pickle.load(f)"
   ]
  },
  {
   "cell_type": "code",
   "execution_count": 8,
   "id": "171bc8e9",
   "metadata": {},
   "outputs": [
    {
     "data": {
      "text/plain": [
       "[('iq', array(['العراق'], dtype=object)),\n",
       " ('jo', array(['الأردن'], dtype=object)),\n",
       " ('lb', array(['لبنان'], dtype=object)),\n",
       " ('ps',\n",
       "  array(['السلطة الوطنية الفلسطينية', 'الضفة الغربية وقطاع غزة',\n",
       "         'دولة فلسطين', 'فلسطين'], dtype=object)),\n",
       " ('sy', array(['سوريا'], dtype=object)),\n",
       " ('iq_an', array(['الأنبار', 'الانبار'], dtype=object)),\n",
       " ('iq_ar', array(['أربيل', 'اربيل'], dtype=object)),\n",
       " ('iq_bb', array(['بابل'], dtype=object)),\n",
       " ('iq_bg', array(['بغداد'], dtype=object)),\n",
       " ('iq_ba', array(['البصرة'], dtype=object))]"
      ]
     },
     "execution_count": 8,
     "metadata": {},
     "output_type": "execute_result"
    }
   ],
   "source": [
    "list(locations_dict_ar.items())[:10]  # Show first 5 items"
   ]
  },
  {
   "cell_type": "code",
   "execution_count": 9,
   "id": "37e08f7a",
   "metadata": {},
   "outputs": [
    {
     "data": {
      "text/plain": [
       "[('lb_na_3', array(['مرجعيون'], dtype=object)),\n",
       " ('iq_ni_1', array(['عقرة'], dtype=object)),\n",
       " ('sy_rd_2', array(['النبك'], dtype=object)),\n",
       " ('iq_ar_3', array(['كويسنجق'], dtype=object)),\n",
       " ('jo_aj_1', array(['قصبة عجلون'], dtype=object)),\n",
       " ('iq_bg', array(['بغداد'], dtype=object)),\n",
       " ('iq_dq', array(['ذي قار'], dtype=object)),\n",
       " ('jo_am_5', array(['ماركا'], dtype=object)),\n",
       " ('lb_nl', array(['الشمال'], dtype=object)),\n",
       " ('jo_am_6', array(['ناعور'], dtype=object))]"
      ]
     },
     "execution_count": 9,
     "metadata": {},
     "output_type": "execute_result"
    }
   ],
   "source": [
    "random.sample(list(locations_dict_ar.items()), 10)  # Show 10 random items"
   ]
  },
  {
   "cell_type": "markdown",
   "id": "49277afb",
   "metadata": {},
   "source": [
    "Provinces : admin-1 and Districts : admin-2.   \n",
    "English and Arabic seem to have same schema.  \n",
    "To extract locations from news articles will need to reverse mapping of this dictionary i.e. many-to-one : ``<non unique name> : <location_id>``"
   ]
  },
  {
   "cell_type": "code",
   "execution_count": 10,
   "id": "0a6b5b08",
   "metadata": {},
   "outputs": [],
   "source": [
    "locations_dict_en_reversed = collections.defaultdict(list)\n",
    "\n",
    "for k,v in locations_dict_en.items():\n",
    "    for vv in v:\n",
    "        locations_dict_en_reversed[vv].append(k)\n",
    "        \n",
    "locations_dict_ar_reversed = collections.defaultdict(list)\n",
    "\n",
    "for k,v in locations_dict_ar.items():\n",
    "    for vv in v:\n",
    "        locations_dict_ar_reversed[vv].append(k)"
   ]
  },
  {
   "cell_type": "code",
   "execution_count": 11,
   "id": "2c2b81d9",
   "metadata": {},
   "outputs": [
    {
     "name": "stdout",
     "output_type": "stream",
     "text": [
      "jenin ['ps_wb_5']\n",
      "rutba ['iq_an_2']\n",
      "zakho ['iq_da_4']\n",
      "mount lebanon ['lb_jl']\n",
      "hai ['iq_wa_2']\n",
      "\n",
      "الميادين ['sy_dy_3']\n",
      "مادبا ['jo_md', 'jo_md_1']\n",
      "طرابلس ['lb_nl_5']\n",
      "مركز إدلب ['sy_id_5']\n",
      "البعاج ['iq_ni_2']\n"
     ]
    }
   ],
   "source": [
    "for k,v in random.sample(list(locations_dict_en_reversed.items()), 5):\n",
    "    print(k,v)\n",
    "print()\n",
    "for k,v in random.sample(list(locations_dict_ar_reversed.items()), 5):\n",
    "    print(k,v)"
   ]
  },
  {
   "cell_type": "code",
   "execution_count": 12,
   "id": "572762b8",
   "metadata": {},
   "outputs": [
    {
     "name": "stdout",
     "output_type": "stream",
     "text": [
      "Counter({1: 511, 2: 48})\n",
      "Counter({1: 319, 2: 39, 3: 1})\n"
     ]
    }
   ],
   "source": [
    "print(collections.Counter(map(len, locations_dict_en_reversed.values())))\n",
    "\n",
    "print(collections.Counter(map(len, locations_dict_ar_reversed.values())))\n",
    "# Minority of location names map to multiple location IDs"
   ]
  },
  {
   "cell_type": "code",
   "execution_count": 15,
   "id": "fe7c5c42",
   "metadata": {},
   "outputs": [
    {
     "data": {
      "text/plain": [
       "['iq', 'jo', 'lb', 'ps', 'sy', 'iq_an', 'iq_ar', 'iq_bb', 'iq_bg', 'iq_ba']"
      ]
     },
     "execution_count": 15,
     "metadata": {},
     "output_type": "execute_result"
    }
   ],
   "source": [
    "list(locations_dict_ar.keys())[0:10]"
   ]
  },
  {
   "cell_type": "code",
   "execution_count": null,
   "id": "0a229949",
   "metadata": {},
   "outputs": [
    {
     "name": "stdout",
     "output_type": "stream",
     "text": [
      "Counter({'iq': 145, 'sy': 81, 'jo': 76, 'lb': 36, 'ps': 19})\n",
      "Counter({'iq': 145, 'sy': 81, 'jo': 76, 'lb': 36, 'ps': 19})\n"
     ]
    }
   ],
   "source": [
    "print(collections.Counter(map(lambda x:x[0:2], locations_dict_en.keys())))\n",
    "print(collections.Counter(map(lambda x:x[0:2], locations_dict_ar.keys())))\n",
    "# Same countries feature"
   ]
  },
  {
   "cell_type": "code",
   "execution_count": null,
   "id": "013c574f",
   "metadata": {},
   "outputs": [],
   "source": [
    "with open(\"../data/processed/ar_locations_reversed.pkl\", \"wb\") as f:\n",
    "    pickle.dump(locations_dict_ar_reversed, f)\n",
    "\n",
    "with open(\"../data/processed/en_locations_reversed.pkl\", \"wb\") as f:\n",
    "    pickle.dump(locations_dict_en_reversed, f)\n",
    "    \n",
    "# Save to disk"
   ]
  },
  {
   "cell_type": "code",
   "execution_count": null,
   "id": "c1ecd663",
   "metadata": {},
   "outputs": [],
   "source": []
  }
 ],
 "metadata": {
  "kernelspec": {
   "display_name": ".venv",
   "language": "python",
   "name": "python3"
  },
  "language_info": {
   "codemirror_mode": {
    "name": "ipython",
    "version": 3
   },
   "file_extension": ".py",
   "mimetype": "text/x-python",
   "name": "python",
   "nbconvert_exporter": "python",
   "pygments_lexer": "ipython3",
   "version": "3.12.10"
  }
 },
 "nbformat": 4,
 "nbformat_minor": 5
}
