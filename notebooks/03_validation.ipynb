{
 "cells": [
  {
   "cell_type": "code",
   "execution_count": 1,
   "id": "3688f303",
   "metadata": {},
   "outputs": [],
   "source": [
    "%load_ext autoreload\n",
    "%autoreload 2"
   ]
  },
  {
   "cell_type": "code",
   "execution_count": 2,
   "id": "86a369f9",
   "metadata": {},
   "outputs": [],
   "source": [
    "import pandas as pd"
   ]
  },
  {
   "cell_type": "markdown",
   "id": "a91be24d",
   "metadata": {},
   "source": [
    "## Take a quick look at some [HDX food insecurity data on Syria](https://data.humdata.org/dataset/syrian-arab-republic-food-security-agriculture-severity-classification#)"
   ]
  },
  {
   "cell_type": "code",
   "execution_count": 13,
   "id": "bef5749a",
   "metadata": {},
   "outputs": [],
   "source": [
    "df = pd.read_excel('data/external/syr-food-sector-pin_severity_2024.xlsx', sheet_name='Food_PiN_by_severity_HNO_2024', header=1)"
   ]
  },
  {
   "cell_type": "code",
   "execution_count": 14,
   "id": "88cd7c19",
   "metadata": {},
   "outputs": [
    {
     "data": {
      "text/html": [
       "<div>\n",
       "<style scoped>\n",
       "    .dataframe tbody tr th:only-of-type {\n",
       "        vertical-align: middle;\n",
       "    }\n",
       "\n",
       "    .dataframe tbody tr th {\n",
       "        vertical-align: top;\n",
       "    }\n",
       "\n",
       "    .dataframe thead th {\n",
       "        text-align: right;\n",
       "    }\n",
       "</style>\n",
       "<table border=\"1\" class=\"dataframe\">\n",
       "  <thead>\n",
       "    <tr style=\"text-align: right;\">\n",
       "      <th></th>\n",
       "      <th>#adm1 +name</th>\n",
       "      <th>#adm1 +code</th>\n",
       "      <th>#adm2 +name</th>\n",
       "      <th>#adm2 +code</th>\n",
       "      <th>#adm3 +name</th>\n",
       "      <th>#adm3 +code</th>\n",
       "      <th>#Indicator +num</th>\n",
       "      <th>#inneed +ind</th>\n",
       "    </tr>\n",
       "  </thead>\n",
       "  <tbody>\n",
       "    <tr>\n",
       "      <th>0</th>\n",
       "      <td>Damascus</td>\n",
       "      <td>SY01</td>\n",
       "      <td>Damascus</td>\n",
       "      <td>SY0100</td>\n",
       "      <td>Damascus</td>\n",
       "      <td>SY010000</td>\n",
       "      <td>3</td>\n",
       "      <td>898967.999742</td>\n",
       "    </tr>\n",
       "    <tr>\n",
       "      <th>1</th>\n",
       "      <td>Aleppo</td>\n",
       "      <td>SY02</td>\n",
       "      <td>Ain Al Arab</td>\n",
       "      <td>SY0206</td>\n",
       "      <td>Lower Shyookh</td>\n",
       "      <td>SY020601</td>\n",
       "      <td>3</td>\n",
       "      <td>12597.570000</td>\n",
       "    </tr>\n",
       "    <tr>\n",
       "      <th>2</th>\n",
       "      <td>Aleppo</td>\n",
       "      <td>SY02</td>\n",
       "      <td>Al Bab</td>\n",
       "      <td>SY0202</td>\n",
       "      <td>Dayr Hafir</td>\n",
       "      <td>SY020202</td>\n",
       "      <td>3</td>\n",
       "      <td>20229.982609</td>\n",
       "    </tr>\n",
       "    <tr>\n",
       "      <th>3</th>\n",
       "      <td>Aleppo</td>\n",
       "      <td>SY02</td>\n",
       "      <td>Ain Al Arab</td>\n",
       "      <td>SY0206</td>\n",
       "      <td>Ain al Arab</td>\n",
       "      <td>SY020600</td>\n",
       "      <td>3</td>\n",
       "      <td>60936.990000</td>\n",
       "    </tr>\n",
       "    <tr>\n",
       "      <th>4</th>\n",
       "      <td>Aleppo</td>\n",
       "      <td>SY02</td>\n",
       "      <td>A'zaz</td>\n",
       "      <td>SY0204</td>\n",
       "      <td>Tall Refaat</td>\n",
       "      <td>SY020402</td>\n",
       "      <td>3</td>\n",
       "      <td>4928.040000</td>\n",
       "    </tr>\n",
       "  </tbody>\n",
       "</table>\n",
       "</div>"
      ],
      "text/plain": [
       "  #adm1 +name #adm1 +code  #adm2 +name #adm2 +code    #adm3 +name #adm3 +code  \\\n",
       "0    Damascus        SY01     Damascus      SY0100       Damascus    SY010000   \n",
       "1      Aleppo        SY02  Ain Al Arab      SY0206  Lower Shyookh    SY020601   \n",
       "2      Aleppo        SY02       Al Bab      SY0202     Dayr Hafir    SY020202   \n",
       "3      Aleppo        SY02  Ain Al Arab      SY0206    Ain al Arab    SY020600   \n",
       "4      Aleppo        SY02        A'zaz      SY0204    Tall Refaat    SY020402   \n",
       "\n",
       "   #Indicator +num   #inneed +ind  \n",
       "0                3  898967.999742  \n",
       "1                3   12597.570000  \n",
       "2                3   20229.982609  \n",
       "3                3   60936.990000  \n",
       "4                3    4928.040000  "
      ]
     },
     "execution_count": 14,
     "metadata": {},
     "output_type": "execute_result"
    }
   ],
   "source": [
    "df.head()"
   ]
  },
  {
   "cell_type": "code",
   "execution_count": 15,
   "id": "8c5604b0",
   "metadata": {},
   "outputs": [
    {
     "ename": "FileNotFoundError",
     "evalue": "[Errno 2] No such file or directory: '../data/processed/en_locations_reversed.pkl'",
     "output_type": "error",
     "traceback": [
      "\u001b[31m---------------------------------------------------------------------------\u001b[39m",
      "\u001b[31mFileNotFoundError\u001b[39m                         Traceback (most recent call last)",
      "\u001b[36mCell\u001b[39m\u001b[36m \u001b[39m\u001b[32mIn[15]\u001b[39m\u001b[32m, line 1\u001b[39m\n\u001b[32m----> \u001b[39m\u001b[32m1\u001b[39m \u001b[38;5;28;01mwith\u001b[39;00m \u001b[38;5;28;43mopen\u001b[39;49m\u001b[43m(\u001b[49m\u001b[33;43m\"\u001b[39;49m\u001b[33;43m../data/processed/en_locations_reversed.pkl\u001b[39;49m\u001b[33;43m\"\u001b[39;49m\u001b[43m,\u001b[49m\u001b[43m \u001b[49m\u001b[33;43m\"\u001b[39;49m\u001b[33;43mrb\u001b[39;49m\u001b[33;43m\"\u001b[39;49m\u001b[43m)\u001b[49m \u001b[38;5;28;01mas\u001b[39;00m f:\n\u001b[32m      2\u001b[39m     locations_dict_en_reversed = pickle.load(f)\n",
      "\u001b[36mFile \u001b[39m\u001b[32m~/dime_take_home/.venv/lib/python3.12/site-packages/IPython/core/interactiveshell.py:343\u001b[39m, in \u001b[36m_modified_open\u001b[39m\u001b[34m(file, *args, **kwargs)\u001b[39m\n\u001b[32m    336\u001b[39m \u001b[38;5;28;01mif\u001b[39;00m file \u001b[38;5;129;01min\u001b[39;00m {\u001b[32m0\u001b[39m, \u001b[32m1\u001b[39m, \u001b[32m2\u001b[39m}:\n\u001b[32m    337\u001b[39m     \u001b[38;5;28;01mraise\u001b[39;00m \u001b[38;5;167;01mValueError\u001b[39;00m(\n\u001b[32m    338\u001b[39m         \u001b[33mf\u001b[39m\u001b[33m\"\u001b[39m\u001b[33mIPython won\u001b[39m\u001b[33m'\u001b[39m\u001b[33mt let you open fd=\u001b[39m\u001b[38;5;132;01m{\u001b[39;00mfile\u001b[38;5;132;01m}\u001b[39;00m\u001b[33m by default \u001b[39m\u001b[33m\"\u001b[39m\n\u001b[32m    339\u001b[39m         \u001b[33m\"\u001b[39m\u001b[33mas it is likely to crash IPython. If you know what you are doing, \u001b[39m\u001b[33m\"\u001b[39m\n\u001b[32m    340\u001b[39m         \u001b[33m\"\u001b[39m\u001b[33myou can use builtins\u001b[39m\u001b[33m'\u001b[39m\u001b[33m open.\u001b[39m\u001b[33m\"\u001b[39m\n\u001b[32m    341\u001b[39m     )\n\u001b[32m--> \u001b[39m\u001b[32m343\u001b[39m \u001b[38;5;28;01mreturn\u001b[39;00m \u001b[43mio_open\u001b[49m\u001b[43m(\u001b[49m\u001b[43mfile\u001b[49m\u001b[43m,\u001b[49m\u001b[43m \u001b[49m\u001b[43m*\u001b[49m\u001b[43margs\u001b[49m\u001b[43m,\u001b[49m\u001b[43m \u001b[49m\u001b[43m*\u001b[49m\u001b[43m*\u001b[49m\u001b[43mkwargs\u001b[49m\u001b[43m)\u001b[49m\n",
      "\u001b[31mFileNotFoundError\u001b[39m: [Errno 2] No such file or directory: '../data/processed/en_locations_reversed.pkl'"
     ]
    }
   ],
   "source": [
    "with open(\"../data/processed/en_locations_reversed.pkl\", \"rb\") as f:\n",
    "    locations_dict_en_reversed = pickle.load(f)"
   ]
  },
  {
   "cell_type": "code",
   "execution_count": null,
   "id": "c32c4f7b",
   "metadata": {},
   "outputs": [],
   "source": [
    "get_locations_from_text(test_article,locations_lookup=locations_dict_en_reversed, locations_pattern=locations_pattern_en)"
   ]
  }
 ],
 "metadata": {
  "kernelspec": {
   "display_name": ".venv",
   "language": "python",
   "name": "python3"
  },
  "language_info": {
   "codemirror_mode": {
    "name": "ipython",
    "version": 3
   },
   "file_extension": ".py",
   "mimetype": "text/x-python",
   "name": "python",
   "nbconvert_exporter": "python",
   "pygments_lexer": "ipython3",
   "version": "3.12.10"
  }
 },
 "nbformat": 4,
 "nbformat_minor": 5
}
