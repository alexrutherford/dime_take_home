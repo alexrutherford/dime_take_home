{
 "cells": [
  {
   "cell_type": "code",
   "execution_count": 1,
   "id": "f80aa525",
   "metadata": {},
   "outputs": [],
   "source": [
    "%load_ext autoreload\n",
    "%autoreload 2"
   ]
  },
  {
   "cell_type": "code",
   "execution_count": 94,
   "id": "e1535565",
   "metadata": {},
   "outputs": [],
   "source": [
    "import pandas as pd\n",
    "import pickle\n",
    "import random\n",
    "import collections\n",
    "import re\n",
    "import seaborn as sns\n",
    "from dime_take_home.utils import get_locations_from_text"
   ]
  },
  {
   "cell_type": "markdown",
   "id": "dea8e24d",
   "metadata": {},
   "source": [
    "# Start to extract locations from news articles"
   ]
  },
  {
   "cell_type": "code",
   "execution_count": 64,
   "id": "075d3cd5",
   "metadata": {},
   "outputs": [],
   "source": [
    "with open(\"../data/raw/id_english_location_name.pkl\", \"rb\") as f:\n",
    "    locations_dict_en = pickle.load(f)\n",
    "with open(\"../data/raw/id_arabic_location_name.pkl\", \"rb\") as f:\n",
    "    locations_dict_ar = pickle.load(f)"
   ]
  },
  {
   "cell_type": "code",
   "execution_count": null,
   "id": "380e1906",
   "metadata": {},
   "outputs": [],
   "source": [
    "with open(\"../data/processed/ar_locations_reversed.pkl\", \"rb\") as f:\n",
    "    locations_dict_ar_reversed = pickle.load(f)\n",
    "\n",
    "with open(\"../data/processed/en_locations_reversed.pkl\", \"rb\") as f:\n",
    "    locations_dict_en_reversed = pickle.load(f)\n",
    "    \n",
    "# Grab reversed location dictionaries"
   ]
  },
  {
   "cell_type": "markdown",
   "id": "c922a606",
   "metadata": {},
   "source": [
    "### Define and test location regex"
   ]
  },
  {
   "cell_type": "code",
   "execution_count": 56,
   "id": "746a35da",
   "metadata": {},
   "outputs": [],
   "source": [
    "locations_pattern_en = re.compile(r\"\\b(?:%s)\\b\" % \"|\".join(map(re.escape, locations_dict_en_reversed.keys())),re.IGNORECASE)\n",
    "locations_pattern_ar = re.compile(r\"\\b(?:%s)\\b\" % \"|\".join(map(re.escape, locations_dict_ar_reversed.keys())),re.IGNORECASE)\n",
    "# Compile regex pattern for matching locations\n",
    "# Important to add whitespace boundaries (\\b) to avoid partial matches"
   ]
  },
  {
   "cell_type": "code",
   "execution_count": null,
   "id": "4dcfa003",
   "metadata": {},
   "outputs": [],
   "source": [
    "assert locations_pattern_en.findall('Suwayda') == ['Suwayda']\n",
    "assert locations_pattern_en.findall('Suwayda mosul') == ['Suwayda','mosul']\n",
    "assert locations_pattern_en.findall('inSuwayda') == []\n",
    "assert locations_pattern_ar.findall(u'ذهبت إلى صيدا') == [u'صيدا']\n",
    "assert locations_pattern_ar.findall(u'ذهبت إلى صيدا و طرابلس') == [u'صيدا', u'طرابلس']\n",
    "# Check if regex patterns work as expected\n"
   ]
  },
  {
   "cell_type": "code",
   "execution_count": 6,
   "id": "1059ec3e",
   "metadata": {},
   "outputs": [],
   "source": [
    "df_news_en = pd.read_csv(\"../data/raw/news-articles-eng.csv\")\n",
    "df_news_en['dateTime'] = pd.to_datetime(df_news_en['dateTime'])\n",
    "df_news_en.sort_values('dateTime', inplace=True)\n",
    "\n",
    "df_news_ar = pd.read_csv(\"../data/raw/news-articles-ara.csv\")\n",
    "df_news_ar['dateTime'] = pd.to_datetime(df_news_ar['dateTime'])\n",
    "df_news_ar.sort_values('dateTime', inplace=True)\n",
    "\n",
    "# Grab news articles, convert dateTime to datetime object and sort by date"
   ]
  },
  {
   "cell_type": "code",
   "execution_count": 8,
   "id": "ffd609a4",
   "metadata": {},
   "outputs": [
    {
     "data": {
      "text/plain": [
       "86660"
      ]
     },
     "execution_count": 8,
     "metadata": {},
     "output_type": "execute_result"
    }
   ],
   "source": [
    "df_news_en.shape[0]"
   ]
  },
  {
   "cell_type": "code",
   "execution_count": 22,
   "id": "ee8595db",
   "metadata": {},
   "outputs": [],
   "source": [
    "if True:\n",
    "    df_news_en = df_news_en.iloc[:df_news_en.shape[0]//50, :]\n",
    "# Grab a subset "
   ]
  },
  {
   "cell_type": "code",
   "execution_count": 23,
   "id": "62be1f52",
   "metadata": {},
   "outputs": [
    {
     "data": {
      "text/plain": [
       "(1733, 20)"
      ]
     },
     "execution_count": 23,
     "metadata": {},
     "output_type": "execute_result"
    }
   ],
   "source": [
    "df_news_en.shape"
   ]
  },
  {
   "cell_type": "code",
   "execution_count": 95,
   "id": "330b0ea7",
   "metadata": {},
   "outputs": [
    {
     "data": {
      "text/plain": [
       "['iq_an_6', 'iq_an_6', 'jo']"
      ]
     },
     "execution_count": 95,
     "metadata": {},
     "output_type": "execute_result"
    }
   ],
   "source": [
    "test_article = df_news_en.iloc[1, :]['body']\n",
    "\n",
    "get_locations_from_text(test_article, locations_pattern_en, locations_dict_en_reversed)"
   ]
  },
  {
   "cell_type": "code",
   "execution_count": 96,
   "id": "a2d591fb",
   "metadata": {},
   "outputs": [
    {
     "data": {
      "text/plain": [
       "['iq_bg', 'iq_bg', 'iq_bg', 'iq_bg_10', 'iq_bg']"
      ]
     },
     "execution_count": 96,
     "metadata": {},
     "output_type": "execute_result"
    }
   ],
   "source": [
    "test_article = df_news_ar.iloc[2, :]['body']\n",
    "\n",
    "get_locations_from_text(test_article, locations_pattern_ar, locations_dict_ar_reversed)"
   ]
  },
  {
   "cell_type": "markdown",
   "id": "5aec5238",
   "metadata": {},
   "source": [
    "### Define and test risk factor regex"
   ]
  },
  {
   "cell_type": "code",
   "execution_count": null,
   "id": "23d9a0dd",
   "metadata": {},
   "outputs": [],
   "source": [
    "df_risk_factors = pd.read_excel(\"../data/raw/risk-factors.xlsx\")"
   ]
  },
  {
   "cell_type": "code",
   "execution_count": null,
   "id": "8b5bfeb1",
   "metadata": {},
   "outputs": [],
   "source": []
  }
 ],
 "metadata": {
  "kernelspec": {
   "display_name": ".venv",
   "language": "python",
   "name": "python3"
  },
  "language_info": {
   "codemirror_mode": {
    "name": "ipython",
    "version": 3
   },
   "file_extension": ".py",
   "mimetype": "text/x-python",
   "name": "python",
   "nbconvert_exporter": "python",
   "pygments_lexer": "ipython3",
   "version": "3.12.10"
  }
 },
 "nbformat": 4,
 "nbformat_minor": 5
}
