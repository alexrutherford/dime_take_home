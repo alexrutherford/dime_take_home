{
 "cells": [
  {
   "cell_type": "code",
   "execution_count": 2,
   "id": "f80aa525",
   "metadata": {},
   "outputs": [],
   "source": [
    "%load_ext autoreload\n",
    "%autoreload 2"
   ]
  },
  {
   "cell_type": "code",
   "execution_count": 93,
   "id": "e1535565",
   "metadata": {},
   "outputs": [],
   "source": [
    "import pandas as pd\n",
    "import pickle\n",
    "import random\n",
    "import collections\n",
    "from tqdm import tqdm\n",
    "import json\n",
    "import re\n",
    "import seaborn as sns\n",
    "from dime_take_home.utils import get_locations_from_text"
   ]
  },
  {
   "cell_type": "markdown",
   "id": "dea8e24d",
   "metadata": {},
   "source": [
    "# Start to extract locations from news articles"
   ]
  },
  {
   "cell_type": "code",
   "execution_count": 5,
   "id": "075d3cd5",
   "metadata": {},
   "outputs": [],
   "source": [
    "with open(\"../data/raw/id_english_location_name.pkl\", \"rb\") as f:\n",
    "    locations_dict_en = pickle.load(f)\n",
    "with open(\"../data/raw/id_arabic_location_name.pkl\", \"rb\") as f:\n",
    "    locations_dict_ar = pickle.load(f)"
   ]
  },
  {
   "cell_type": "code",
   "execution_count": 6,
   "id": "380e1906",
   "metadata": {},
   "outputs": [],
   "source": [
    "with open(\"../data/processed/ar_locations_reversed.pkl\", \"rb\") as f:\n",
    "    locations_dict_ar_reversed = pickle.load(f)\n",
    "\n",
    "with open(\"../data/processed/en_locations_reversed.pkl\", \"rb\") as f:\n",
    "    locations_dict_en_reversed = pickle.load(f)\n",
    "    \n",
    "# Grab reversed location dictionaries"
   ]
  },
  {
   "cell_type": "markdown",
   "id": "c922a606",
   "metadata": {},
   "source": [
    "### Define and test location regex"
   ]
  },
  {
   "cell_type": "code",
   "execution_count": 7,
   "id": "746a35da",
   "metadata": {},
   "outputs": [],
   "source": [
    "locations_pattern_en = re.compile(r\"\\b(?:%s)\\b\" % \"|\".join(map(re.escape, locations_dict_en_reversed.keys())),re.IGNORECASE)\n",
    "locations_pattern_ar = re.compile(r\"\\b(?:%s)\\b\" % \"|\".join(map(re.escape, locations_dict_ar_reversed.keys())),re.IGNORECASE)\n",
    "# Compile regex pattern for matching locations\n",
    "# Important to add whitespace boundaries (\\b) to avoid partial matches"
   ]
  },
  {
   "cell_type": "code",
   "execution_count": 8,
   "id": "4dcfa003",
   "metadata": {},
   "outputs": [],
   "source": [
    "assert locations_pattern_en.findall('Suwayda') == ['Suwayda']\n",
    "assert locations_pattern_en.findall('Suwayda mosul') == ['Suwayda','mosul']\n",
    "assert locations_pattern_en.findall('inSuwayda') == []\n",
    "assert locations_pattern_ar.findall(u'ذهبت إلى صيدا') == [u'صيدا']\n",
    "assert locations_pattern_ar.findall(u'ذهبت إلى صيدا و طرابلس') == [u'صيدا', u'طرابلس']\n",
    "# Check if regex patterns work as expected\n"
   ]
  },
  {
   "cell_type": "code",
   "execution_count": 9,
   "id": "1059ec3e",
   "metadata": {},
   "outputs": [],
   "source": [
    "df_news_en = pd.read_csv(\"../data/raw/news-articles-eng.csv\")\n",
    "df_news_en['dateTime'] = pd.to_datetime(df_news_en['dateTime'])\n",
    "df_news_en.sort_values('dateTime', inplace=True)\n",
    "\n",
    "df_news_ar = pd.read_csv(\"../data/raw/news-articles-ara.csv\")\n",
    "df_news_ar['dateTime'] = pd.to_datetime(df_news_ar['dateTime'])\n",
    "df_news_ar.sort_values('dateTime', inplace=True)\n",
    "\n",
    "# Grab news articles, convert dateTime to datetime object and sort by date"
   ]
  },
  {
   "cell_type": "code",
   "execution_count": 10,
   "id": "ffd609a4",
   "metadata": {},
   "outputs": [
    {
     "data": {
      "text/plain": [
       "86660"
      ]
     },
     "execution_count": 10,
     "metadata": {},
     "output_type": "execute_result"
    }
   ],
   "source": [
    "df_news_en.shape[0]"
   ]
  },
  {
   "cell_type": "code",
   "execution_count": 11,
   "id": "ee8595db",
   "metadata": {},
   "outputs": [],
   "source": [
    "if True:\n",
    "    df_news_en = df_news_en.iloc[:df_news_en.shape[0]//50, :]\n",
    "# Grab a subset "
   ]
  },
  {
   "cell_type": "code",
   "execution_count": 12,
   "id": "62be1f52",
   "metadata": {},
   "outputs": [
    {
     "data": {
      "text/plain": [
       "(1733, 20)"
      ]
     },
     "execution_count": 12,
     "metadata": {},
     "output_type": "execute_result"
    }
   ],
   "source": [
    "df_news_en.shape"
   ]
  },
  {
   "cell_type": "code",
   "execution_count": 13,
   "id": "330b0ea7",
   "metadata": {},
   "outputs": [
    {
     "data": {
      "text/plain": [
       "['iq_an_6', 'iq_an_6', 'jo']"
      ]
     },
     "execution_count": 13,
     "metadata": {},
     "output_type": "execute_result"
    }
   ],
   "source": [
    "test_article = df_news_en.iloc[1, :]['body']\n",
    "\n",
    "get_locations_from_text(test_article, locations_pattern_en, locations_dict_en_reversed)"
   ]
  },
  {
   "cell_type": "code",
   "execution_count": 14,
   "id": "a2d591fb",
   "metadata": {},
   "outputs": [
    {
     "data": {
      "text/plain": [
       "['iq_bg', 'iq_bg', 'iq_bg', 'iq_bg_10', 'iq_bg']"
      ]
     },
     "execution_count": 14,
     "metadata": {},
     "output_type": "execute_result"
    }
   ],
   "source": [
    "test_article = df_news_ar.iloc[2, :]['body']\n",
    "\n",
    "get_locations_from_text(test_article, locations_pattern_ar, locations_dict_ar_reversed)"
   ]
  },
  {
   "cell_type": "markdown",
   "id": "5aec5238",
   "metadata": {},
   "source": [
    "### Define and test risk factor regex"
   ]
  },
  {
   "cell_type": "code",
   "execution_count": 15,
   "id": "23d9a0dd",
   "metadata": {},
   "outputs": [],
   "source": [
    "df_risk_factors = pd.read_csv(\"../data/processed/risk-factors-with-arabic.csv\")"
   ]
  },
  {
   "cell_type": "code",
   "execution_count": 17,
   "id": "8b5bfeb1",
   "metadata": {},
   "outputs": [],
   "source": [
    "df_risk_factors_categories = pd.read_csv(\"../data/processed/risk_factors_categories_with_arabic.csv\")"
   ]
  },
  {
   "cell_type": "code",
   "execution_count": 26,
   "id": "da095c17",
   "metadata": {},
   "outputs": [
    {
     "data": {
      "text/html": [
       "<div>\n",
       "<style scoped>\n",
       "    .dataframe tbody tr th:only-of-type {\n",
       "        vertical-align: middle;\n",
       "    }\n",
       "\n",
       "    .dataframe tbody tr th {\n",
       "        vertical-align: top;\n",
       "    }\n",
       "\n",
       "    .dataframe thead th {\n",
       "        text-align: right;\n",
       "    }\n",
       "</style>\n",
       "<table border=\"1\" class=\"dataframe\">\n",
       "  <thead>\n",
       "    <tr style=\"text-align: right;\">\n",
       "      <th></th>\n",
       "      <th>risk_factor_english</th>\n",
       "      <th>risk_factor_arabic</th>\n",
       "      <th>cluster</th>\n",
       "    </tr>\n",
       "  </thead>\n",
       "  <tbody>\n",
       "    <tr>\n",
       "      <th>6</th>\n",
       "      <td>military junta</td>\n",
       "      <td>المجلس العسكري</td>\n",
       "      <td>political instability</td>\n",
       "    </tr>\n",
       "    <tr>\n",
       "      <th>9</th>\n",
       "      <td>displaced</td>\n",
       "      <td>نازح</td>\n",
       "      <td>forced displacement</td>\n",
       "    </tr>\n",
       "    <tr>\n",
       "      <th>3</th>\n",
       "      <td>terrorism</td>\n",
       "      <td>الإرهاب</td>\n",
       "      <td>conflicts and violence</td>\n",
       "    </tr>\n",
       "    <tr>\n",
       "      <th>4</th>\n",
       "      <td>catastrophe</td>\n",
       "      <td>كارثة</td>\n",
       "      <td>other</td>\n",
       "    </tr>\n",
       "    <tr>\n",
       "      <th>8</th>\n",
       "      <td>slashed export</td>\n",
       "      <td>خفض الصادرات</td>\n",
       "      <td>economic issues</td>\n",
       "    </tr>\n",
       "  </tbody>\n",
       "</table>\n",
       "</div>"
      ],
      "text/plain": [
       "  risk_factor_english risk_factor_arabic                 cluster\n",
       "6      military junta     المجلس العسكري   political instability\n",
       "9           displaced               نازح     forced displacement\n",
       "3           terrorism            الإرهاب  conflicts and violence\n",
       "4         catastrophe              كارثة                   other\n",
       "8      slashed export       خفض الصادرات         economic issues"
      ]
     },
     "execution_count": 26,
     "metadata": {},
     "output_type": "execute_result"
    }
   ],
   "source": [
    "df_risk_factors_categories.sample(5)"
   ]
  },
  {
   "cell_type": "code",
   "execution_count": null,
   "id": "f5b90efc",
   "metadata": {},
   "outputs": [],
   "source": [
    "with open(\"../data/processed/risk_categories_dict_en.json\", \"r\", encoding=\"utf-8\") as f:\n",
    "    risk_categories_dict_en = json.load(f)\n",
    "\n",
    "with open(\"../data/processed/risk_categories_dict_ar.json\", \"r\", encoding=\"utf-8\") as f:\n",
    "    risk_categories_dict_ar = json.load(f)\n",
    "    \n",
    "# Load back in mappings of terms to clusters\n"
   ]
  },
  {
   "cell_type": "code",
   "execution_count": 20,
   "id": "21847012",
   "metadata": {},
   "outputs": [],
   "source": [
    "risk_categories_pattern_en = re.compile(r\"\\b(?:%s)\\b\" % \"|\".join(map(re.escape, df_risk_factors_categories['risk_factor_english'])),re.IGNORECASE)\n",
    "risk_categories_pattern_ar = re.compile(r\"\\b(?:%s)\\b\" % \"|\".join(map(re.escape, df_risk_factors_categories['risk_factor_arabic'])),re.IGNORECASE)\n"
   ]
  },
  {
   "cell_type": "code",
   "execution_count": 29,
   "id": "130a6243",
   "metadata": {},
   "outputs": [],
   "source": [
    "assert risk_categories_pattern_en.findall('There is a risk of catastrophe') == ['catastrophe']\n",
    "assert risk_categories_pattern_ar.findall(u'هناك خطر من كارثة') == [u'كارثة']\n",
    "# 'There is a risk of catastrophe' -> 'catastrophe'"
   ]
  },
  {
   "cell_type": "code",
   "execution_count": null,
   "id": "ed1a6d47",
   "metadata": {},
   "outputs": [],
   "source": [
    "def get_risk_factors_from_text(text, lang = 'en'):\n",
    "    \n",
    "    if lang == 'en':\n",
    "        matches = risk_categories_pattern_en.findall(text)\n",
    "        return list(map(risk_categories_dict_en.get, matches))\n",
    "    elif lang == 'ar':\n",
    "        matches = risk_categories_pattern_ar.findall(text)\n",
    "        return list(map(risk_categories_dict_ar.get, matches))\n",
    "    return matches\n",
    "    "
   ]
  },
  {
   "cell_type": "code",
   "execution_count": 63,
   "id": "3b71a0a8",
   "metadata": {},
   "outputs": [
    {
     "name": "stdout",
     "output_type": "stream",
     "text": [
      "['other']\n",
      "['other']\n",
      "['other', 'economic issues', 'political instability']\n"
     ]
    }
   ],
   "source": [
    "print(get_risk_factors_from_text('There is risk of catastrophe'))\n",
    "print(get_risk_factors_from_text(u'هناك خطر من كارثة', lang='ar'))\n",
    "print(get_risk_factors_from_text('There is risk of catastrophe and slashed export due to the military junta'))"
   ]
  },
  {
   "cell_type": "markdown",
   "id": "f8200a2e",
   "metadata": {},
   "source": [
    "### Now extract things from news article"
   ]
  },
  {
   "cell_type": "code",
   "execution_count": 84,
   "id": "cfd5712a",
   "metadata": {},
   "outputs": [],
   "source": [
    "test_article = df_news_en.iloc[11]['body']"
   ]
  },
  {
   "cell_type": "code",
   "execution_count": 85,
   "id": "35325e78",
   "metadata": {},
   "outputs": [
    {
     "data": {
      "text/plain": [
       "'DETROIT (AP) - WHITE SOX 5, TIGERS 1\\n\\nDETROIT (AP) - Drew Thorpe pitched six scoreless innings and got his first major league win in his third start, pitching Chicago over Detroit.\\n\\nThorpe (1-1) allowed two hits and four walks while striking out five. The 23-year-old right-hander didn´t get a decision in his debut at Seattle on June 11, then lasted 3 1/3 innings in a 12-5 loss at Arizona on June 16.\\n\\nA second-round pick by the Yankees in the 2022 amateur draft, Thorpe was dealt to San Diego in the December trade that brought Juan Soto to New York, then was traded to Chicago in March as part of a package for right-hander Dylan Cease.\\n\\nKorey Lee homered, Nicky Lopez had three hits and an RBI, and Andrew Vaughn, Paul DeJong and Lenyn Sosa drove in runs as the major league-worst White Sox (21-57) stopped a three-game losing streak.\\n\\nJustin Anderson, John Brebbia and Michael Kopech pitched an inning each, with Brebbia allowing Mark Canha´s RBI groundout in the eighth.\\n\\nChicago White Sox pitcher Drew Thorpe (33) throws against the Detroit Tigers in the fourth inning of a baseball game, Saturday, June 22, 2024, in Detroit. (AP Photo/Paul Sancya)\\n\\nDetroit (35-41) has lost five of six, scoring six runs during that span.\\n\\nCARDINALS 9, GIANTS 4\\n\\nST. LOUIS (AP) - Alec Burleson had a career-high five RBIs with his first multi-homer game and St. Louis overcame a three-run, first-inning deficit to beat San Francisco and move back over .500.\\n\\nPaul Goldschmidt and Brendan Donovan also homered for the Cardinals, who at 38-37 matched their season high of one game over .500. They were also 5-4 and 36-35.\\n\\nBurleson hit a three-run homer in the fourth off Jordan Hicks for a 5-4 lead and a two-run drive against Sean Hjelle in the sixth, his 12th home run this season. The top three batters in the Cardinals´ order were 7 for 14 with three homers and eight RBIs.\\n\\nFacing his original team for the first time, Hicks (4-4) allowed a career-high five earned runs, six hits and three walks in four innings. The 27-year-old right-hander was traded to Toronto last July 30, then became a free agent and signed a $44 million, four-year contract with the Giants.\\n\\nSan Francisco has lost four straight and six of seven.\\n\\nCUBS 8, METS 1\\n\\nCHICAGO (AP) - Jameson Taillon pitched seven crisp innings, Christopher Morel homered and Chicago cooled off New York with a victory.\\n\\nTaillon struck out a season-high 10 in his first win since May 4. The right-hander allowed one run and six hits.\\n\\nNew York averaged 6.6 runs and 10.3 hits while going 12-3 in its previous 15 games, including an 11-1 victory in the series opener on Friday. But it was held in check by Taillon (4-3) and two relievers on a hot afternoon at Wrigley Field.\\n\\nFrancisco Alvarez homered for the second straight day for New York, and J.D. Martinez had two of the team´s seven hits. Tylor Megill (2-4) lasted just three innings in his worst start of the season.\\n\\nThe Cubs grabbed control with five runs in the first. Morel singled home Seiya Suzuki and scored on Dansby Swanson´s double. Pete Crow-Armstrong capped the fast start with a standup triple into the corner in right, driving in Swanson.\\n\\nMorel made it 6-0 with a 446-foot drive to center in the third. It was Morel´s team-high 14th homer.\\n\\nPIRATES 4, RAYS 3\\n\\nPITTSBURGH (AP) - Jared Jones struck out eight, Oneil Cruz homered into the Allegheny River and Pittsburgh beat Tampa Bay Rays.\\n\\nJones (5-6) overcame some early control issues to allow two runs over seven solid innings to bounce back from a pair of recent shaky starts.\\n\\nThe 22-year-old right-hander hit Brandon Lowe and Amed Rosario in the first inning, catching Rosario´s helmet with a 99 mph fastball that forced the third baseman to exit with facial lacerations. Jones then settled down.\\n\\nAroldis Chapman gave up an RBI double to Yandy Díaz with two outs in the ninth but got Isaac Paredes to ground out and got his second save.\\n\\nASTROS 5, ORIOLES 1\\n\\nHOUSTON (AP) - Ronel Blanco pitched seven strong innings and Chas McCormick homered twice to lead Houston to a win over Baltimore.\\n\\nYordan Alvarez added a two-run shot to help Houston extend its winning streak to four games.\\n\\nBlanco (8-2), who threw seven hitless innings in his last start, allowed four hits and a run with three strikeouts for his third straight win.\\n\\nAlvarez put the Astros on top with his 16th homer, which came off Corbin Burnes (8-3) in the third, and McCormick made it 4-1 in the fifth. McCormick got his fifth career multihomer game when he connected again in the eighth.\\n\\nBurnes allowed five hits, including a season-high two homers and a season-most four runs in seven innings to snap his career-best streak of 10 consecutive quality starts. He was 5-0 in seven starts since a loss at Washington on May 7.\\n\\nRANGERS 6, ROYALS 0\\n\\nARLINGTON, Texas (AP) - Jon Gray allowed two hits over five innings to rebound from his worst major league start and Wyatt Langford hit an eighth-inning grand slam that led Texas over Kansas City.\\n\\nGray (3-3) gave up back-to-back third-inning singles while throwing 51 of 72 pitches for strikes. He gave nine earned runs and 11 hits in three innings-plus last Monday in a 14-2 loss to the New York Mets.\\n\\nLangford, a rookie who debuted on opening day, connected off Angel Zerpa for the Rangers´ first grand slam this season.\\n\\nWorld Series champion Texas has won three straight following a five-game losing streak. Kansas City has lost 10 of 13, scoring 36 runs in those games.\\n\\nGUARDIANS 6, BLUE JAYS 3\\n\\nCLEVELAND (AP) - José Ramírez and Bo Naylor hit two-run homers and Steven Kwan added a solo shot while pushing his average back near .400, leading Cleveland to a win over Toronto.\\n\\nAll three homers came off José Berríos (6-6) as the AL Central-leading Guardians (48-26) moved 22 games over. 500 for the first time this season.\\n\\nRookie Daniel Schneemann also homered for Cleveland, which has 86 homers in 74 games after hitting just 48 at the same point a year ago.\\n\\nIsiah Kiner-Falefa homered twice and Davis Schneider connected for Toronto, which lost its fifth game in a row.\\n\\nPHILLIES 12, DIAMONDBACKS 1\\n\\nPHILADELPHIA (AP) - Zack Wheeler allowed only one run and two hits in seven innings of work Saturday while Bryce Harper, Alec Bohm, Nick Castellanos and David Dahl all homered as Philadelphia cruised to a 1win over Arizona.\\n\\nThe win allowed the Phillies to be the first National League team to record 50 wins with a 50-26 record. The New York Yankees have 51 wins entering a Saturday night game against the Braves to lead the majors as the season´s halfway point approaches.\\n\\nCastellanos had a season-high five RBIs and hit his second homer in as many days in the victory. Harper added three RBIs and hit his 18th of the season into the second deck in right field in the third inning during a 4-for-5 day at the plate. Bohm followed Harper´s shot with his eight of the second to left-center field.\\n\\nThe top five spots in the Phillies starting batting order - Kyle Schwarber, Trea Turner, Harper, Bohm and Castellanos - were a combined 10-for-19 with 10 runs scored and 10 RBIs on the afternoon as Philadelphia scored double figures in runs for a game for the fifth time this season. Most of the damage was done against Arizona starter Tommy Henry (2-3).\\n\\nMARINERS 9, MARLINS 0\\n\\nMIAMI (AP) - Logan Gilbert pitched eight scoreless innings for the second straight start and Seattle beat Miami.\\n\\nGilbert (5-4) scattered four hits, struck out six and was aided by three double-play grounders, lowering his ERA to 2.71. The 27-year-old right-hander walked one, ending a string of three straight outings without allowing a base on balls.\\n\\nDominic Canzone tied his career high of four hits with a homer and three singles, scoring three runs. Ryan Bliss doubled twice and singled for the Mariners, who stopped a three-game skid. Dylan Moore had two doubles among Seattle´s seven extra-base hits.\\n\\nCanzone, Moore and Bliss, the bottom three in Seattle´s batting order, combined to go 9 for 14 with six runs and five RBIs.\\n\\nMiami had won its previous three games, all walk-offs.\\n\\nTWINS 10, ATHLETICS 2\\n\\nOAKLAND, Calif. (AP) - Bailey Ober struck out 10 in a four-hitter for his first career complete game and Minnesota used a seven-run second inning to rout Oakland Athletics.\\n\\nOber (7-4) needed just 89 pitches to finish the game while tying a career high in strikeouts and walking none. He allowed two runs on solo homers by JJ Bleday and Tyler Soderstrom in the first two innings.\\n\\nManuel Margot hit a three-run homer in Minnesota´s big inning against JP Sears (4-7). Jose Miranda and Carlos Correa each had three hits for the Twins, who snapped a three-game skid.\\n\\nThe A´s had won three of four before Saturday´s defeat in front of an announced crowd of 9,299.\\n\\nRED SOX 4, REDS 3\\n\\nCINCINNATI (AP) - Rafael Devers drove in the go-ahead run with a sacrifice fly in the eighth inning and Jarren Duran made a game-saving defensive play in the ninth as the Boston Red Sox rallied to beat the Cincinnati Reds 4-3 on Saturday.\\n\\nPinch-hitter Rob Refsnyder singled home the tying run before Duran tagged on Devers´ fly ball and slid home just ahead of left fielder Stuart Fairchild´s throw.\\n\\nKenley Jansen retired the Reds in the ninth for his 14th save in 15 chances. He got a huge assist from Duran, who leaped to get his glove above the center field fence to rob Fairchild of a tying home run.\\n\\nJansen´s save was his 434th, and he moved ahead of Baltimore´ Craig Kimbrel into sole possession of fifth on the career list.'"
      ]
     },
     "execution_count": 85,
     "metadata": {},
     "output_type": "execute_result"
    }
   ],
   "source": [
    "test_article"
   ]
  },
  {
   "cell_type": "code",
   "execution_count": 86,
   "id": "b46bc4d0",
   "metadata": {},
   "outputs": [
    {
     "data": {
      "text/plain": [
       "['iq_an_6',\n",
       " 'jo',\n",
       " 'iq_an_6',\n",
       " 'iq_an_6',\n",
       " 'iq_an_6',\n",
       " 'iq_an_6',\n",
       " 'iq_an_6',\n",
       " 'iq_an_6']"
      ]
     },
     "execution_count": 86,
     "metadata": {},
     "output_type": "execute_result"
    }
   ],
   "source": [
    "get_locations_from_text(test_article,locations_lookup=locations_dict_en_reversed, locations_pattern=locations_pattern_en)"
   ]
  },
  {
   "cell_type": "code",
   "execution_count": null,
   "id": "60fbcd6a",
   "metadata": {},
   "outputs": [],
   "source": [
    "matches = []\n",
    "\n",
    "while len(matches) == 0:\n",
    "    test_article = df_news_en.sample(1).iloc[0]['body']\n",
    "    matches = get_risk_factors_from_text(test_article.lower())"
   ]
  },
  {
   "cell_type": "code",
   "execution_count": 89,
   "id": "afdd37af",
   "metadata": {},
   "outputs": [
    {
     "data": {
      "text/plain": [
       "['other', 'other']"
      ]
     },
     "execution_count": 89,
     "metadata": {},
     "output_type": "execute_result"
    }
   ],
   "source": [
    "matches"
   ]
  },
  {
   "cell_type": "code",
   "execution_count": 90,
   "id": "fb3ce9eb",
   "metadata": {},
   "outputs": [
    {
     "data": {
      "text/html": [
       "<div>\n",
       "<style scoped>\n",
       "    .dataframe tbody tr th:only-of-type {\n",
       "        vertical-align: middle;\n",
       "    }\n",
       "\n",
       "    .dataframe tbody tr th {\n",
       "        vertical-align: top;\n",
       "    }\n",
       "\n",
       "    .dataframe thead th {\n",
       "        text-align: right;\n",
       "    }\n",
       "</style>\n",
       "<table border=\"1\" class=\"dataframe\">\n",
       "  <thead>\n",
       "    <tr style=\"text-align: right;\">\n",
       "      <th></th>\n",
       "      <th>uri</th>\n",
       "      <th>lang</th>\n",
       "      <th>isDuplicate</th>\n",
       "      <th>date</th>\n",
       "      <th>time</th>\n",
       "      <th>dateTime</th>\n",
       "      <th>dateTimePub</th>\n",
       "      <th>dataType</th>\n",
       "      <th>sim</th>\n",
       "      <th>url</th>\n",
       "      <th>title</th>\n",
       "      <th>body</th>\n",
       "      <th>source</th>\n",
       "      <th>authors</th>\n",
       "      <th>image</th>\n",
       "      <th>eventUri</th>\n",
       "      <th>sentiment</th>\n",
       "      <th>wgt</th>\n",
       "      <th>relevance</th>\n",
       "      <th>userHasPermissions</th>\n",
       "    </tr>\n",
       "  </thead>\n",
       "  <tbody>\n",
       "    <tr>\n",
       "      <th>15273</th>\n",
       "      <td>8190770956</td>\n",
       "      <td>eng</td>\n",
       "      <td>False</td>\n",
       "      <td>2024-06-23</td>\n",
       "      <td>00:00:16</td>\n",
       "      <td>2024-06-23 00:00:16+00:00</td>\n",
       "      <td>2024-06-22T23:58:12Z</td>\n",
       "      <td>news</td>\n",
       "      <td>0.000000</td>\n",
       "      <td>https://www.ringtv.com/674552-jordan-panthen-k...</td>\n",
       "      <td>Jordan Panthen knocks out Victor Toney in thre...</td>\n",
       "      <td>Jordan Panthen continues to score knockout win...</td>\n",
       "      <td>{'uri': 'ringtv.com', 'dataType': 'news', 'tit...</td>\n",
       "      <td>[{'uri': 'francisco_salazar@ringtv.com', 'name...</td>\n",
       "      <td>https://www.ringtv.com/wp-content/uploads/2024...</td>\n",
       "      <td>NaN</td>\n",
       "      <td>-0.074510</td>\n",
       "      <td>53</td>\n",
       "      <td>53</td>\n",
       "      <td>NaN</td>\n",
       "    </tr>\n",
       "    <tr>\n",
       "      <th>86659</th>\n",
       "      <td>8190773147</td>\n",
       "      <td>eng</td>\n",
       "      <td>False</td>\n",
       "      <td>2024-06-23</td>\n",
       "      <td>00:03:50</td>\n",
       "      <td>2024-06-23 00:03:50+00:00</td>\n",
       "      <td>2024-06-23T00:01:55Z</td>\n",
       "      <td>news</td>\n",
       "      <td>0.686275</td>\n",
       "      <td>https://www.reformer.com/ap/sports/ram-rez-kwa...</td>\n",
       "      <td>Ramírez, Kwan homer as AL Central-leading Guar...</td>\n",
       "      <td>CLEVELAND (AP) -- José Ramírez and Bo Naylor h...</td>\n",
       "      <td>{'uri': 'reformer.com', 'dataType': 'news', 't...</td>\n",
       "      <td>[{'uri': 'tom_withers@reformer.com', 'name': '...</td>\n",
       "      <td>https://bloximages.newyork1.vip.townnews.com/r...</td>\n",
       "      <td>eng-9672706</td>\n",
       "      <td>0.184314</td>\n",
       "      <td>1</td>\n",
       "      <td>1</td>\n",
       "      <td>NaN</td>\n",
       "    </tr>\n",
       "    <tr>\n",
       "      <th>18870</th>\n",
       "      <td>8190775869</td>\n",
       "      <td>eng</td>\n",
       "      <td>False</td>\n",
       "      <td>2024-06-23</td>\n",
       "      <td>00:07:49</td>\n",
       "      <td>2024-06-23 00:07:49+00:00</td>\n",
       "      <td>2024-06-23T00:06:20Z</td>\n",
       "      <td>news</td>\n",
       "      <td>0.501961</td>\n",
       "      <td>https://www.yahoo.com/news/community-members-s...</td>\n",
       "      <td>Community members step up to help during storm...</td>\n",
       "      <td>Jun. 22 -- MITCHELL -- While the two-day rains...</td>\n",
       "      <td>{'uri': 'yahoo.com', 'dataType': 'news', 'titl...</td>\n",
       "      <td>[]</td>\n",
       "      <td>https://s.yimg.com/cv/apiv2/social/images/yaho...</td>\n",
       "      <td>eng-9669354</td>\n",
       "      <td>0.184314</td>\n",
       "      <td>52</td>\n",
       "      <td>52</td>\n",
       "      <td>NaN</td>\n",
       "    </tr>\n",
       "    <tr>\n",
       "      <th>6351</th>\n",
       "      <td>2024-06-398429595</td>\n",
       "      <td>eng</td>\n",
       "      <td>False</td>\n",
       "      <td>2024-06-23</td>\n",
       "      <td>00:08:25</td>\n",
       "      <td>2024-06-23 00:08:25+00:00</td>\n",
       "      <td>2024-06-23T00:08:19Z</td>\n",
       "      <td>news</td>\n",
       "      <td>0.717647</td>\n",
       "      <td>https://www.iranintl.com/en/202406216837</td>\n",
       "      <td>Iran Warns Israel Against Waging War on Lebanon</td>\n",
       "      <td>Iran's mission to the UN in New York warned Is...</td>\n",
       "      <td>{'uri': 'iranintl.com', 'dataType': 'news', 't...</td>\n",
       "      <td>[]</td>\n",
       "      <td>https://i.iranintl.com/images/rdk9umy0/product...</td>\n",
       "      <td>eng-9669018</td>\n",
       "      <td>-0.403922</td>\n",
       "      <td>106</td>\n",
       "      <td>106</td>\n",
       "      <td>NaN</td>\n",
       "    </tr>\n",
       "    <tr>\n",
       "      <th>36361</th>\n",
       "      <td>2024-06-398429564</td>\n",
       "      <td>eng</td>\n",
       "      <td>False</td>\n",
       "      <td>2024-06-23</td>\n",
       "      <td>00:08:25</td>\n",
       "      <td>2024-06-23 00:08:25+00:00</td>\n",
       "      <td>2024-06-22T23:42:48Z</td>\n",
       "      <td>news</td>\n",
       "      <td>0.000000</td>\n",
       "      <td>https://clutchpoints.com/blue-jays-news-jordan...</td>\n",
       "      <td>Blue Jays' Jordan Romano dealt unfortunate inj...</td>\n",
       "      <td>Toronto's two-time All-Star closer continues t...</td>\n",
       "      <td>{'uri': 'clutchpoints.com', 'dataType': 'news'...</td>\n",
       "      <td>[{'uri': 'peter_sampson@clutchpoints.com', 'na...</td>\n",
       "      <td>https://wp.clutchpoints.com/wp-content/uploads...</td>\n",
       "      <td>NaN</td>\n",
       "      <td>0.121569</td>\n",
       "      <td>4</td>\n",
       "      <td>4</td>\n",
       "      <td>NaN</td>\n",
       "    </tr>\n",
       "  </tbody>\n",
       "</table>\n",
       "</div>"
      ],
      "text/plain": [
       "                     uri lang  isDuplicate        date      time  \\\n",
       "15273         8190770956  eng        False  2024-06-23  00:00:16   \n",
       "86659         8190773147  eng        False  2024-06-23  00:03:50   \n",
       "18870         8190775869  eng        False  2024-06-23  00:07:49   \n",
       "6351   2024-06-398429595  eng        False  2024-06-23  00:08:25   \n",
       "36361  2024-06-398429564  eng        False  2024-06-23  00:08:25   \n",
       "\n",
       "                       dateTime           dateTimePub dataType       sim  \\\n",
       "15273 2024-06-23 00:00:16+00:00  2024-06-22T23:58:12Z     news  0.000000   \n",
       "86659 2024-06-23 00:03:50+00:00  2024-06-23T00:01:55Z     news  0.686275   \n",
       "18870 2024-06-23 00:07:49+00:00  2024-06-23T00:06:20Z     news  0.501961   \n",
       "6351  2024-06-23 00:08:25+00:00  2024-06-23T00:08:19Z     news  0.717647   \n",
       "36361 2024-06-23 00:08:25+00:00  2024-06-22T23:42:48Z     news  0.000000   \n",
       "\n",
       "                                                     url  \\\n",
       "15273  https://www.ringtv.com/674552-jordan-panthen-k...   \n",
       "86659  https://www.reformer.com/ap/sports/ram-rez-kwa...   \n",
       "18870  https://www.yahoo.com/news/community-members-s...   \n",
       "6351            https://www.iranintl.com/en/202406216837   \n",
       "36361  https://clutchpoints.com/blue-jays-news-jordan...   \n",
       "\n",
       "                                                   title  \\\n",
       "15273  Jordan Panthen knocks out Victor Toney in thre...   \n",
       "86659  Ramírez, Kwan homer as AL Central-leading Guar...   \n",
       "18870  Community members step up to help during storm...   \n",
       "6351     Iran Warns Israel Against Waging War on Lebanon   \n",
       "36361  Blue Jays' Jordan Romano dealt unfortunate inj...   \n",
       "\n",
       "                                                    body  \\\n",
       "15273  Jordan Panthen continues to score knockout win...   \n",
       "86659  CLEVELAND (AP) -- José Ramírez and Bo Naylor h...   \n",
       "18870  Jun. 22 -- MITCHELL -- While the two-day rains...   \n",
       "6351   Iran's mission to the UN in New York warned Is...   \n",
       "36361  Toronto's two-time All-Star closer continues t...   \n",
       "\n",
       "                                                  source  \\\n",
       "15273  {'uri': 'ringtv.com', 'dataType': 'news', 'tit...   \n",
       "86659  {'uri': 'reformer.com', 'dataType': 'news', 't...   \n",
       "18870  {'uri': 'yahoo.com', 'dataType': 'news', 'titl...   \n",
       "6351   {'uri': 'iranintl.com', 'dataType': 'news', 't...   \n",
       "36361  {'uri': 'clutchpoints.com', 'dataType': 'news'...   \n",
       "\n",
       "                                                 authors  \\\n",
       "15273  [{'uri': 'francisco_salazar@ringtv.com', 'name...   \n",
       "86659  [{'uri': 'tom_withers@reformer.com', 'name': '...   \n",
       "18870                                                 []   \n",
       "6351                                                  []   \n",
       "36361  [{'uri': 'peter_sampson@clutchpoints.com', 'na...   \n",
       "\n",
       "                                                   image     eventUri  \\\n",
       "15273  https://www.ringtv.com/wp-content/uploads/2024...          NaN   \n",
       "86659  https://bloximages.newyork1.vip.townnews.com/r...  eng-9672706   \n",
       "18870  https://s.yimg.com/cv/apiv2/social/images/yaho...  eng-9669354   \n",
       "6351   https://i.iranintl.com/images/rdk9umy0/product...  eng-9669018   \n",
       "36361  https://wp.clutchpoints.com/wp-content/uploads...          NaN   \n",
       "\n",
       "       sentiment  wgt  relevance userHasPermissions  \n",
       "15273  -0.074510   53         53                NaN  \n",
       "86659   0.184314    1          1                NaN  \n",
       "18870   0.184314   52         52                NaN  \n",
       "6351   -0.403922  106        106                NaN  \n",
       "36361   0.121569    4          4                NaN  "
      ]
     },
     "execution_count": 90,
     "metadata": {},
     "output_type": "execute_result"
    }
   ],
   "source": [
    "df_news_en.head()"
   ]
  },
  {
   "cell_type": "code",
   "execution_count": 94,
   "id": "dd12f3e9",
   "metadata": {},
   "outputs": [
    {
     "name": "stderr",
     "output_type": "stream",
     "text": [
      "100%|██████████| 1733/1733 [00:00<00:00, 3102.62it/s]\n"
     ]
    }
   ],
   "source": [
    "tqdm.pandas()\n",
    "df_news_en['risk_factors'] = df_news_en['body'].progress_apply(get_risk_factors_from_text)"
   ]
  },
  {
   "cell_type": "code",
   "execution_count": 97,
   "id": "d3414418",
   "metadata": {},
   "outputs": [
    {
     "name": "stderr",
     "output_type": "stream",
     "text": [
      "100%|██████████| 1733/1733 [00:13<00:00, 128.60it/s]\n"
     ]
    }
   ],
   "source": [
    "tqdm.pandas()\n",
    "df_news_en['locations'] = df_news_en['body'].progress_apply(lambda x: get_locations_from_text(x,locations_lookup=locations_dict_en_reversed, locations_pattern=locations_pattern_en))"
   ]
  },
  {
   "cell_type": "code",
   "execution_count": 99,
   "id": "7cd02774",
   "metadata": {},
   "outputs": [
    {
     "data": {
      "text/html": [
       "<div>\n",
       "<style scoped>\n",
       "    .dataframe tbody tr th:only-of-type {\n",
       "        vertical-align: middle;\n",
       "    }\n",
       "\n",
       "    .dataframe tbody tr th {\n",
       "        vertical-align: top;\n",
       "    }\n",
       "\n",
       "    .dataframe thead th {\n",
       "        text-align: right;\n",
       "    }\n",
       "</style>\n",
       "<table border=\"1\" class=\"dataframe\">\n",
       "  <thead>\n",
       "    <tr style=\"text-align: right;\">\n",
       "      <th></th>\n",
       "      <th>locations</th>\n",
       "      <th>risk_factors</th>\n",
       "    </tr>\n",
       "  </thead>\n",
       "  <tbody>\n",
       "    <tr>\n",
       "      <th>15273</th>\n",
       "      <td>[jo]</td>\n",
       "      <td>[]</td>\n",
       "    </tr>\n",
       "    <tr>\n",
       "      <th>86659</th>\n",
       "      <td>[iq_an_6, iq_an_6, jo]</td>\n",
       "      <td>[]</td>\n",
       "    </tr>\n",
       "    <tr>\n",
       "      <th>18870</th>\n",
       "      <td>[jo, iq_an_6]</td>\n",
       "      <td>[]</td>\n",
       "    </tr>\n",
       "    <tr>\n",
       "      <th>6351</th>\n",
       "      <td>[lb, lb, lb, ps_gz_2, ps_gz_2]</td>\n",
       "      <td>[]</td>\n",
       "    </tr>\n",
       "    <tr>\n",
       "      <th>36361</th>\n",
       "      <td>[jo, jo]</td>\n",
       "      <td>[]</td>\n",
       "    </tr>\n",
       "    <tr>\n",
       "      <th>86658</th>\n",
       "      <td>[jo]</td>\n",
       "      <td>[]</td>\n",
       "    </tr>\n",
       "    <tr>\n",
       "      <th>53068</th>\n",
       "      <td>[ps_gz_2, jo]</td>\n",
       "      <td>[]</td>\n",
       "    </tr>\n",
       "    <tr>\n",
       "      <th>32891</th>\n",
       "      <td>[ps_gz_2, ps, ps, ps, ps, ps]</td>\n",
       "      <td>[other]</td>\n",
       "    </tr>\n",
       "    <tr>\n",
       "      <th>10735</th>\n",
       "      <td>[ps_gz_2, ps_gz_5, ps_gz_2, ps_gz_5, ps_gz_2, ...</td>\n",
       "      <td>[]</td>\n",
       "    </tr>\n",
       "    <tr>\n",
       "      <th>86657</th>\n",
       "      <td>[iq_an_6, iq_an_6, jo]</td>\n",
       "      <td>[]</td>\n",
       "    </tr>\n",
       "  </tbody>\n",
       "</table>\n",
       "</div>"
      ],
      "text/plain": [
       "                                               locations risk_factors\n",
       "15273                                               [jo]           []\n",
       "86659                             [iq_an_6, iq_an_6, jo]           []\n",
       "18870                                      [jo, iq_an_6]           []\n",
       "6351                      [lb, lb, lb, ps_gz_2, ps_gz_2]           []\n",
       "36361                                           [jo, jo]           []\n",
       "86658                                               [jo]           []\n",
       "53068                                      [ps_gz_2, jo]           []\n",
       "32891                      [ps_gz_2, ps, ps, ps, ps, ps]      [other]\n",
       "10735  [ps_gz_2, ps_gz_5, ps_gz_2, ps_gz_5, ps_gz_2, ...           []\n",
       "86657                             [iq_an_6, iq_an_6, jo]           []"
      ]
     },
     "execution_count": 99,
     "metadata": {},
     "output_type": "execute_result"
    }
   ],
   "source": [
    "df_news_en[['locations', 'risk_factors']].head(10)"
   ]
  },
  {
   "cell_type": "code",
   "execution_count": null,
   "id": "283e160d",
   "metadata": {},
   "outputs": [],
   "source": []
  }
 ],
 "metadata": {
  "kernelspec": {
   "display_name": ".venv",
   "language": "python",
   "name": "python3"
  },
  "language_info": {
   "codemirror_mode": {
    "name": "ipython",
    "version": 3
   },
   "file_extension": ".py",
   "mimetype": "text/x-python",
   "name": "python",
   "nbconvert_exporter": "python",
   "pygments_lexer": "ipython3",
   "version": "3.12.10"
  }
 },
 "nbformat": 4,
 "nbformat_minor": 5
}
